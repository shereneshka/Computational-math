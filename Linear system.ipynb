{
 "cells": [
  {
   "cell_type": "markdown",
   "metadata": {},
   "source": [
    "# Практическая работа по СЛАУ\n",
    "## № 2.10.6 л)"
   ]
  },
  {
   "cell_type": "code",
   "execution_count": 105,
   "metadata": {},
   "outputs": [],
   "source": [
    "import numpy as np\n",
    "from math import*\n",
    "\n",
    "N = 20\n",
    "A = np.zeros((N, N))\n",
    "for i in range(N):\n",
    "    for j in range(N):\n",
    "        if (i == j):\n",
    "            A[i,i] = 10.\n",
    "        else:\n",
    "            A[i,j] = 1./(i+j+2)\n",
    "\n",
    "b = np.zeros((N,1))\n",
    "for i in range(N):\n",
    "    b[i,0] = 1./(i+1)\n",
    "\n",
    "inv_A = np.linalg.inv(A)"
   ]
  },
  {
   "cell_type": "markdown",
   "metadata": {},
   "source": [
    "Найдем числа обусловленности матрицы А:"
   ]
  },
  {
   "cell_type": "markdown",
   "metadata": {},
   "source": [
    "1. Числа обусловленности по кубической и октаэдрической нормам (будут совпадать, т.к. матрица симметричная):"
   ]
  },
  {
   "cell_type": "code",
   "execution_count": 84,
   "metadata": {},
   "outputs": [
    {
     "name": "stdout",
     "output_type": "stream",
     "text": [
      "Число обусловленности:  1.1435607239195356\n"
     ]
    }
   ],
   "source": [
    "norm1_A, sum_A = 0, 0\n",
    "norm1_invA, sum_invA = 0, 0\n",
    "for i in range(N):\n",
    "    for j in range(N):\n",
    "        sum_A += A[i,j]\n",
    "        sum_invA += inv_A[i,j]\n",
    "    if sum_A > norm1_A:\n",
    "        norm1_A = sum_A\n",
    "    if sum_invA > norm1_invA:\n",
    "        norm1_invA = sum_invA    \n",
    "    sum_A = 0\n",
    "    sum_invA = 0\n",
    "print 'Число обусловленности: ', norm1_A * norm1_invA"
   ]
  },
  {
   "cell_type": "markdown",
   "metadata": {},
   "source": [
    "2.Число обусловленности по евклидовой норме:"
   ]
  },
  {
   "cell_type": "code",
   "execution_count": 49,
   "metadata": {},
   "outputs": [
    {
     "name": "stdout",
     "output_type": "stream",
     "text": [
      "Число обусловленности:  11.3001283984\n"
     ]
    }
   ],
   "source": [
    "l1, e1 = np.linalg.eig(A.dot(A))\n",
    "l_max = np.amax(l1)\n",
    "l_min = np.amin(l1)\n",
    "print 'Число обусловленности: ', sqrt(l_max)"
   ]
  },
  {
   "cell_type": "markdown",
   "metadata": {},
   "source": [
    "Максимальное и минимальное значения собственных чисел:"
   ]
  },
  {
   "cell_type": "code",
   "execution_count": 50,
   "metadata": {},
   "outputs": [
    {
     "name": "stdout",
     "output_type": "stream",
     "text": [
      "lambda max:  11.300128398425871\n",
      "lambda min:  9.65779712494759\n"
     ]
    }
   ],
   "source": [
    "lA, eA = np.linalg.eig(A)\n",
    "l_maxA = np.amax(lA)\n",
    "l_minA = np.amin(lA)\n",
    "print 'lambda max: ', l_maxA\n",
    "print 'lambda min: ', l_minA"
   ]
  },
  {
   "cell_type": "markdown",
   "metadata": {},
   "source": [
    "## Метод Гаусса"
   ]
  },
  {
   "cell_type": "code",
   "execution_count": 149,
   "metadata": {},
   "outputs": [
    {
     "name": "stdout",
     "output_type": "stream",
     "text": [
      "Полученное решение: \n",
      "[[0.1       ]\n",
      " [0.04671858]\n",
      " [0.02996764]\n",
      " [0.02186691]\n",
      " [0.01712252]\n",
      " [0.01401963]\n",
      " [0.01183835]\n",
      " [0.01022463]\n",
      " [0.00898449]\n",
      " [0.00800294]\n",
      " [0.00720757]\n",
      " [0.00655056]\n",
      " [0.0059991 ]\n",
      " [0.00552995]\n",
      " [0.00512616]\n",
      " [0.00477514]\n",
      " [0.0044673 ]\n",
      " [0.00419524]\n",
      " [0.00395313]\n",
      " [0.00373636]]\n"
     ]
    }
   ],
   "source": [
    "Ab = np.hstack((A,b))\n",
    "#Прямой ход метода Гаусса\n",
    "for k in range(N):\n",
    "    for j in range(k+1, N+1):\n",
    "        Ab[k,j] = Ab[k,j]/Ab[k,k]\n",
    "    Ab[k,k] = 1\n",
    "    for i in range(k+1, N):\n",
    "        div = Ab[i,k]\n",
    "        for j in range(k, N+1):\n",
    "            Ab[i, j] = Ab[i,j]/div - Ab[k,j]\n",
    "#Обратный ход метода Гаусса\n",
    "X = np.zeros((N, 1))\n",
    "for k in range(N-1, -1, -1):\n",
    "        X[k] += Ab[k, N]\n",
    "        for j in range(k-1, -1 -1):\n",
    "            X[k] -= X[j] * Ab[k,j]\n",
    "\n",
    "print 'Полученное решение: \\n', X"
   ]
  },
  {
   "cell_type": "markdown",
   "metadata": {},
   "source": [
    "Найдем невязку:"
   ]
  },
  {
   "cell_type": "code",
   "execution_count": 186,
   "metadata": {},
   "outputs": [
    {
     "name": "stdout",
     "output_type": "stream",
     "text": [
      "Невязка: \n",
      "[[-0.03988409]\n",
      " [-0.02131483]\n",
      " [-0.01393954]\n",
      " [-0.01002162]\n",
      " [-0.00760786]\n",
      " [-0.00598049]\n",
      " [-0.0048147 ]\n",
      " [-0.00394236]\n",
      " [-0.00326783]\n",
      " [-0.00273273]\n",
      " [-0.00229946]\n",
      " [-0.0019427 ]\n",
      " [-0.00164481]\n",
      " [-0.00139312]\n",
      " [-0.00117829]\n",
      " [-0.00099333]\n",
      " [-0.00083285]\n",
      " [-0.00069268]\n",
      " [-0.00056951]\n",
      " [-0.00046071]]\n",
      "Норма невязки: \n",
      "0.05008108715464271\n"
     ]
    }
   ],
   "source": [
    "delta_X = b - A.dot(X)\n",
    "print 'Невязка: \\n', delta_X\n",
    "print 'Норма невязки: \\n', np.linalg.norm(delta_X, ord=2)"
   ]
  },
  {
   "cell_type": "markdown",
   "metadata": {},
   "source": [
    "## Метод Зейделя"
   ]
  },
  {
   "cell_type": "code",
   "execution_count": 189,
   "metadata": {},
   "outputs": [
    {
     "name": "stdout",
     "output_type": "stream",
     "text": [
      "Полученное решение: \n",
      "[[0.09615746]\n",
      " [0.04478375]\n",
      " [0.02874755]\n",
      " [0.02101576]\n",
      " [0.01649429]\n",
      " [0.01353947]\n",
      " [0.01146294]\n",
      " [0.00992677]\n",
      " [0.00874602]\n",
      " [0.00781115]\n",
      " [0.00705327]\n",
      " [0.00642689]\n",
      " [0.0059008 ]\n",
      " [0.00545292]\n",
      " [0.00506717]\n",
      " [0.00473155]\n",
      " [0.00443698]\n",
      " [0.00417641]\n",
      " [0.00394434]\n",
      " [0.00373636]]\n",
      "Решение получено за  5 итераций\n"
     ]
    }
   ],
   "source": [
    "D = np.zeros((N,N))\n",
    "for i in range(N):\n",
    "    D[i,i] = A[i,i]\n",
    "L = np.zeros((N,N))\n",
    "for i in range(N):\n",
    "    for j in range(i):\n",
    "        L[i,j] = A[i,j]\n",
    "U = A - D - L\n",
    "R = -1 * np.dot(np.linalg.inv(L+D), U)\n",
    "F = np.dot(np.linalg.inv(L+D), b)\n",
    "eps = 10 ** (-6)\n",
    "\n",
    "X_s = np.zeros((N,1))\n",
    "X_s1 = np.zeros((N,1))\n",
    "k = 0\n",
    "while (True):\n",
    "    X_s = X_s1\n",
    "    X_s1 = np.dot(R, X_s) + F\n",
    "    k += 1\n",
    "    if (np.linalg.norm((X_s - X_s1), ord=2) < eps): \n",
    "        break     \n",
    "print 'Полученное решение: \\n', X_s1\n",
    "print 'Решение получено за ', k, 'итераций'"
   ]
  },
  {
   "cell_type": "markdown",
   "metadata": {},
   "source": [
    "Критерием остановки процесса является условие:\n",
    "$||x_{s+1}-x_{s}|| < \\epsilon$, где $\\epsilon = 10 ^{-6}$"
   ]
  },
  {
   "cell_type": "markdown",
   "metadata": {},
   "source": [
    "Найдем невязку для метода Зейделя:"
   ]
  },
  {
   "cell_type": "code",
   "execution_count": 187,
   "metadata": {},
   "outputs": [
    {
     "name": "stdout",
     "output_type": "stream",
     "text": [
      "Невязка: \n",
      "[[ 1.04319222e-08]\n",
      " [ 6.36054964e-09]\n",
      " [ 3.78309040e-09]\n",
      " [ 2.29603972e-09]\n",
      " [ 1.41782144e-09]\n",
      " [ 8.83678047e-10]\n",
      " [ 5.51064333e-10]\n",
      " [ 3.40532796e-10]\n",
      " [ 2.06042364e-10]\n",
      " [ 1.19964538e-10]\n",
      " [ 6.52240900e-11]\n",
      " [ 3.10073495e-11]\n",
      " [ 1.03284464e-11]\n",
      " [-1.39771528e-12]\n",
      " [-7.21779581e-12]\n",
      " [-9.17405041e-12]\n",
      " [-8.64298216e-12]\n",
      " [-6.55406979e-12]\n",
      " [-3.53349988e-12]\n",
      " [ 0.00000000e+00]]\n",
      "Норма невязки: \n",
      "1.3120150107138125e-08\n"
     ]
    }
   ],
   "source": [
    "delta_X1 = b - A.dot(X_s1)\n",
    "print 'Невязка: \\n', delta_X1\n",
    "print 'Норма невязки: \\n', np.linalg.norm(delta_X1, ord=2)"
   ]
  }
 ],
 "metadata": {
  "kernelspec": {
   "display_name": "Python 2",
   "language": "python",
   "name": "python2"
  },
  "language_info": {
   "codemirror_mode": {
    "name": "ipython",
    "version": 2
   },
   "file_extension": ".py",
   "mimetype": "text/x-python",
   "name": "python",
   "nbconvert_exporter": "python",
   "pygments_lexer": "ipython2",
   "version": "2.7.16"
  }
 },
 "nbformat": 4,
 "nbformat_minor": 2
}
