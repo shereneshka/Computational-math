{
 "cells": [
  {
   "cell_type": "markdown",
   "metadata": {},
   "source": [
    "# Задача №1.2 (1.2.3)\n",
    "### Сумма ряда $\\frac{9}{n^2+7n+12}$"
   ]
  },
  {
   "cell_type": "markdown",
   "metadata": {},
   "source": [
    "## N = 10"
   ]
  },
  {
   "cell_type": "code",
   "execution_count": 7,
   "metadata": {},
   "outputs": [
    {
     "name": "stdout",
     "output_type": "stream",
     "text": [
      "2.30769230769\n"
     ]
    }
   ],
   "source": [
    "summ = 0.\n",
    "for n in range(10):\n",
    "    summ = summ + 1./(n**2 + 7*n + 12)\n",
    "print(summ * 9)"
   ]
  },
  {
   "cell_type": "markdown",
   "metadata": {},
   "source": [
    "Теоретическое значение: 2.35714285714"
   ]
  },
  {
   "cell_type": "markdown",
   "metadata": {},
   "source": [
    "## N = 100"
   ]
  },
  {
   "cell_type": "code",
   "execution_count": 8,
   "metadata": {},
   "outputs": [
    {
     "name": "stdout",
     "output_type": "stream",
     "text": [
      "2.91262135922\n"
     ]
    }
   ],
   "source": [
    "summ = 0.\n",
    "for n in range(100):\n",
    "    summ = summ + 1./(n**2 + 7*n + 12)\n",
    "print(summ * 9)"
   ]
  },
  {
   "cell_type": "markdown",
   "metadata": {},
   "source": [
    "Теоретическое значение: 2.91346153846"
   ]
  },
  {
   "cell_type": "markdown",
   "metadata": {},
   "source": [
    "## N = $10^3$"
   ]
  },
  {
   "cell_type": "code",
   "execution_count": 9,
   "metadata": {},
   "outputs": [
    {
     "name": "stdout",
     "output_type": "stream",
     "text": [
      "2.99102691924\n"
     ]
    }
   ],
   "source": [
    "summ = 0.\n",
    "for n in range(1000):\n",
    "    summ = summ + 1./(n**2 + 7*n + 12)\n",
    "print(summ * 9)"
   ]
  },
  {
   "cell_type": "markdown",
   "metadata": {},
   "source": [
    "Теоретическое значение: 2.99103585657"
   ]
  },
  {
   "cell_type": "markdown",
   "metadata": {},
   "source": [
    "## N = $10^4$"
   ]
  },
  {
   "cell_type": "code",
   "execution_count": 11,
   "metadata": {},
   "outputs": [
    {
     "name": "stdout",
     "output_type": "stream",
     "text": [
      "2.99910026992\n"
     ]
    }
   ],
   "source": [
    "summ = 0.\n",
    "for n in range(10000):\n",
    "    summ = summ + 1./(n**2 + 7*n + 12)\n",
    "print(summ * 9)"
   ]
  },
  {
   "cell_type": "markdown",
   "metadata": {},
   "source": [
    "Теоретическое значение: 2.99910035986"
   ]
  },
  {
   "cell_type": "markdown",
   "metadata": {},
   "source": [
    "## N = $10^5$"
   ]
  },
  {
   "cell_type": "code",
   "execution_count": 12,
   "metadata": {},
   "outputs": [
    {
     "name": "stdout",
     "output_type": "stream",
     "text": [
      "2.9999100027\n"
     ]
    }
   ],
   "source": [
    "summ = 0.\n",
    "for n in range(100000):\n",
    "    summ = summ + 1./(n**2 + 7*n + 12)\n",
    "print(summ * 9)"
   ]
  },
  {
   "cell_type": "markdown",
   "metadata": {},
   "source": [
    "Теоретическое значение: 2.9999100036"
   ]
  },
  {
   "cell_type": "markdown",
   "metadata": {},
   "source": [
    "### Оценка теоретической погрешности метода:\n",
    "#### (погрешностью вычисления пренебрегаем, т.к. она пренебрежимо мала, а именно $2^{-53}$)\n",
    "$|\\sum\\limits_{n=0}^\\infty \\frac{9}{n^2+7n+12} \\; - \\;\\sum\\limits_{n=0}^{N} \\frac{9}{n^2+7n+12}|  \\; = \\;|\\sum\\limits_{n=N+1}^\\infty \\frac{9}{n^2+7n+12}| \\; \\leq \\; |\\sum\\limits_{n=N+1}^\\infty \\frac{9}{n^2}| \\; \\leq \\; |\\int\\limits_{n=N+1}^\\infty \\frac{9}{n^2}dn|\\; =\\; \\frac{9}{N+1}$"
   ]
  },
  {
   "cell_type": "markdown",
   "metadata": {},
   "source": [
    "$N = 10: \\;\\;\\;\\;\\;\\Delta_{theory} = 0.82 \\;\\;\\;\\;\\; \\Delta_{real} = 0.05$\n"
   ]
  },
  {
   "cell_type": "markdown",
   "metadata": {},
   "source": [
    "$N = 100: \\;\\;\\;\\;\\;\\Delta_{theory} = 0.09 \\;\\;\\;\\;\\; \\Delta_{real} = 8\\cdot10^{-4}$"
   ]
  },
  {
   "cell_type": "markdown",
   "metadata": {},
   "source": [
    "$N = 10^3: \\;\\;\\;\\;\\;\\Delta_{theory} = 9\\cdot10^{-3} \\;\\;\\;\\;\\; \\Delta_{real} = 9\\cdot10^{-6}$"
   ]
  },
  {
   "cell_type": "markdown",
   "metadata": {},
   "source": [
    "$N = 10^4: \\;\\;\\;\\;\\;\\Delta_{theory} = 9\\cdot10^{-4} \\;\\;\\;\\;\\; \\Delta_{real} = 9\\cdot10^{-8}$"
   ]
  },
  {
   "cell_type": "markdown",
   "metadata": {},
   "source": [
    "$N = 10^5: \\;\\;\\;\\;\\;\\Delta_{theory} = 9\\cdot10^{-5} \\;\\;\\;\\;\\; \\Delta_{real} = 9\\cdot10^{-10}$"
   ]
  },
  {
   "cell_type": "markdown",
   "metadata": {},
   "source": [
    "### Построим график зависимости числа первых совпадающих разрядов M от десятичного логарифма N"
   ]
  },
  {
   "cell_type": "code",
   "execution_count": 53,
   "metadata": {
    "scrolled": true
   },
   "outputs": [
    {
     "data": {
      "image/png": "[encoded data removed]",
      "text/plain": [
       "<Figure size 864x360 with 1 Axes>"
      ]
     },
     "metadata": {
      "needs_background": "light"
     },
     "output_type": "display_data"
    }
   ],
   "source": [
    "import numpy as np\n",
    "import matplotlib.pyplot as plt\n",
    "import pandas as pd\n",
    "\n",
    "figsize = (12,5)\n",
    "\n",
    "fig = plt.figure(figsize=figsize, frameon=True)\n",
    "\n",
    "#X = range(1,6)\n",
    "Y = np.genfromtxt('summa_ryada.txt', delimiter=',')\n",
    "\n",
    "#x=np.arange(0,6,1)\n",
    "\n",
    "\n",
    "plt.axis([0, 6, 0, 10])\n",
    "plt.xlabel('lg N', fontsize=15, color='black')\n",
    "plt.ylabel('M', fontsize=15, color='black')\n",
    "\n",
    "plt.plot(X, Y, 'bo', markersize=5, color = 'green', markeredgecolor = 'black', linestyle = '-' )\n",
    "plt.title('')\n",
    "plt.savefig('1.svg', format = 'svg')"
   ]
  }
 ],
 "metadata": {
  "kernelspec": {
   "display_name": "Python 2",
   "language": "python",
   "name": "python2"
  },
  "language_info": {
   "codemirror_mode": {
    "name": "ipython",
    "version": 2
   },
   "file_extension": ".py",
   "mimetype": "text/x-python",
   "name": "python",
   "nbconvert_exporter": "python",
   "pygments_lexer": "ipython2",
   "version": "2.7.16"
  }
 },
 "nbformat": 4,
 "nbformat_minor": 2
}
