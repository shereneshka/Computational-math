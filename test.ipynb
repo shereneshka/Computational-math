{
 "cells": [
  {
   "cell_type": "markdown",
   "metadata": {},
   "source": [
    "Проверка на тестовом уравнении:\n",
    "\n",
    "$y_1' = y_2 \\\\\n",
    "y_2' = -y_1$"
   ]
  },
  {
   "cell_type": "markdown",
   "metadata": {},
   "source": [
    "Аналитическое решение:\n",
    "\n",
    "$y_1 = 2cos(t) \\\\\n",
    "y_2 = -2sin(t)$"
   ]
  },
  {
   "cell_type": "code",
   "execution_count": 1,
   "metadata": {},
   "outputs": [],
   "source": [
    "#начальные условия\n",
    "y10 = 2.0\n",
    "y20 = 0.0\n",
    "T0 = 0.0\n",
    "Tk = 20.0\n",
    "\n"
   ]
  },
  {
   "cell_type": "markdown",
   "metadata": {},
   "source": [
    "## Метод Рунге-Кутты 4-го порядка:"
   ]
  },
  {
   "cell_type": "code",
   "execution_count": 2,
   "metadata": {},
   "outputs": [],
   "source": [
    "%matplotlib inline\n",
    "import scipy.optimize\n",
    "import math\n",
    "import numpy as np\n",
    "import matplotlib.pyplot as plt\n",
    "\n",
    "def f(y):\n",
    "    y1 = y[0]\n",
    "    y2 = y[1]\n",
    "    f1 = y2\n",
    "    f2 = -y1\n",
    "    result = [f1, f2]\n",
    "    return np.array(result)\n",
    "\n",
    "def runge(f, y10, y20, T0, Tk, h):\n",
    "    N = int(((Tk-T0)/h))\n",
    "    y = [y10, y20] \n",
    "    Y_ = [y]\n",
    "    y = np.array(y) \n",
    "    \n",
    "    #Метод Рунге-Кутты 4-го порядка\n",
    "    for i in range(N):\n",
    "        k1 = f(y)\n",
    "        k2 = f(y + h/2*k1)\n",
    "        k3 = f(y + h/2*k2)\n",
    "        k4 = f(y + h*k3)\n",
    "        y = y + h/6*(k1 + 2*k2 + 2*k3 + k4)\n",
    "        u = [y[0], y[1]]\n",
    "        Y_.append(u)\n",
    "    return Y_"
   ]
  },
  {
   "cell_type": "markdown",
   "metadata": {},
   "source": [
    "## Неявный метод Эйлера"
   ]
  },
  {
   "cell_type": "markdown",
   "metadata": {},
   "source": [
    "$\\frac{y^{n+1}-y^{n}}{h} = f_{n+1}$"
   ]
  },
  {
   "cell_type": "code",
   "execution_count": 3,
   "metadata": {},
   "outputs": [],
   "source": [
    "def jacobian(y, h):\n",
    "    y1 = y[0]\n",
    "    y2 = y[1]\n",
    "    dfdy = np.zeros((2,2))\n",
    "    dfdy[0][0] = 1\n",
    "    dfdy[0][1] = -h\n",
    "    dfdy[1][0] = h\n",
    "    dfdy[1][1] = 1\n",
    "    return dfdy\n",
    "\n",
    "def F(y_curr, y_prev, h):\n",
    "    return (y_curr - y_prev - h*f(y_curr))"
   ]
  },
  {
   "cell_type": "code",
   "execution_count": 4,
   "metadata": {},
   "outputs": [],
   "source": [
    "def newton(y, h):\n",
    "    eps = h**2\n",
    "    max_iter = 7\n",
    "    y_prev = y.copy()\n",
    "    y_curr = y.copy()\n",
    "    for i in range (max_iter):\n",
    "        y_prev = y_curr.copy()\n",
    "        delta = np.linalg.solve(jacobian(y_prev,h), F(y_prev, y, h))\n",
    "        y_curr = y_curr - delta\n",
    "        if (np.max(np.abs(delta)) < eps):\n",
    "            break\n",
    "\n",
    "    return y_curr"
   ]
  },
  {
   "cell_type": "code",
   "execution_count": 5,
   "metadata": {},
   "outputs": [],
   "source": [
    "def eiler(f, y10, y20, T0, Tk, h):\n",
    "    N = int((Tk - T0) / h)\n",
    "    y = [y10, y20] \n",
    "    Y_ = [y]\n",
    "    y = np.array(y)\n",
    "    \n",
    "    for i in range(N):\n",
    "        y = newton(y,h)\n",
    "        u = [y[0], y[1]]\n",
    "        Y_.append(u)\n",
    "    return Y_"
   ]
  },
  {
   "cell_type": "markdown",
   "metadata": {},
   "source": [
    "## Неявная формула дифференцирования назад 3 порядка:\n"
   ]
  },
  {
   "cell_type": "markdown",
   "metadata": {},
   "source": [
    "$\\frac{11}{6}y^{n+1}-3y^{n}+\\frac{3}{2}y^{n-1}-\\frac{1}{3}y^{n-2}=hf_{n+1}$"
   ]
  },
  {
   "cell_type": "markdown",
   "metadata": {},
   "source": [
    "Значения в точках $y^{1}, y^{2}$ найдем с помощью метода Рунге-Кутты 4 порядка"
   ]
  },
  {
   "cell_type": "code",
   "execution_count": 6,
   "metadata": {},
   "outputs": [],
   "source": [
    "def newton2(y_pr3, y_pr2, y_pr1, h):\n",
    "    eps = h**2\n",
    "    max_iter = 5\n",
    "    y_curr = y_pr1.copy()\n",
    "    for i in range (max_iter):\n",
    "        y_prev = y_curr.copy()\n",
    "        delta = np.linalg.solve((jacobian2(y_prev,h)), F2(y_prev, y_pr3, y_pr2, y_pr1, h))\n",
    "        y_curr = y_curr - delta\n",
    "        if (np.max(np.abs(delta)) < eps):\n",
    "            break\n",
    "          \n",
    "    return y_curr\n",
    "\n",
    "def jacobian2(y, h):\n",
    "    y1 = y[0]\n",
    "    y2 = y[1]\n",
    "    dfdy = np.zeros((2,2))\n",
    "    dfdy[0][0] = 1\n",
    "    dfdy[0][1] = -6/11 * h\n",
    "    dfdy[1][0] = 6/11 * h\n",
    "    dfdy[1][1] = 1\n",
    "    return dfdy\n",
    "\n",
    "def F2(y_prev, y_pr3, y_pr2, y_pr1, h):\n",
    "    return (y_prev - 6/11*(3*y_pr1 - 1.5*y_pr2 + 1/3*y_pr3 + h*f(y_prev)))"
   ]
  },
  {
   "cell_type": "code",
   "execution_count": 7,
   "metadata": {},
   "outputs": [],
   "source": [
    "def runge_for_bdf(y,h):\n",
    "    k1 = f(y)\n",
    "    k2 = f(y + h/2*k1)\n",
    "    k3 = f(y + h/2*k2)\n",
    "    k4 = f(y + h*k3)\n",
    "    return(y + h/6*(k1 + 2*k2 + 2*k3 + k4))\n",
    "    \n",
    "def bdf(f, y10, y20, T0, Tk, h):\n",
    "    N = int((Tk - T0) / h)\n",
    "    y_pr3 = [y10, y20] #y_0\n",
    "    y_pr2 = runge_for_bdf(y_pr3,h) #y_1\n",
    "    y_pr1= runge_for_bdf(y_pr2,h) #y_2\n",
    "    Y_ = [y_pr3]\n",
    "    Y_.append([y_pr2[0], y_pr2[1]])\n",
    "    Y_.append([y_pr1[0], y_pr1[1]])\n",
    "    y_pr1 = np.array(y_pr1)\n",
    "    y_pr2 = np.array(y_pr2)\n",
    "    y_pr3 = np.array(y_pr3)\n",
    "\n",
    "    for i in range(N):\n",
    "        y = newton2(y_pr3, y_pr2, y_pr1, h)\n",
    "        y_pr3 = y_pr2.copy()\n",
    "        y_pr2 = y_pr1.copy()\n",
    "        y_pr1 = y.copy()\n",
    "        u = [y[0], y[1]]\n",
    "        Y_.append(u)\n",
    "    return Y_\n"
   ]
  },
  {
   "cell_type": "markdown",
   "metadata": {},
   "source": [
    "## Оценка с помощью правила Рунге:"
   ]
  },
  {
   "cell_type": "markdown",
   "metadata": {},
   "source": [
    "$a_1 = C h^p \\\\\n",
    "a_2 = C (\\frac{h}{2})^p \\\\\n",
    "\\Rightarrow p = \\frac{log(a_2/a_1)}{log(2)}\\\\\n",
    "\\Rightarrow C = \\frac{a_1}{h^p}$"
   ]
  },
  {
   "cell_type": "code",
   "execution_count": 8,
   "metadata": {},
   "outputs": [],
   "source": [
    "def RUNGE_runge(h_r):\n",
    "    Y_h = np.array(runge(f, y10, y20, T0, Tk, h_r))\n",
    "    Y_05h = np.array(runge(f, y10, y20, T0, Tk, h_r/2))\n",
    "    t_h = np.linspace(0, Tk, len(Y_h))\n",
    "    t_05h = np.linspace(0, Tk, len(Y_05h))\n",
    "    Y_h_tr = np.array(list(zip(2*np.cos(t_h), -2*np.sin(t_h))))\n",
    "    Y_05h_tr = np.array(list(zip(2*np.cos(t_05h), -2*np.sin(t_05h))))\n",
    "    a1 = np.linalg.norm(np.abs(Y_h - Y_h_tr), ord=2)\n",
    "    a2 = np.linalg.norm(np.abs(Y_05h - Y_05h_tr), ord=2)\n",
    "    p = np.abs(math.log2(a2/a1))\n",
    "    C = a1/h_r**p\n",
    "    return p, C"
   ]
  },
  {
   "cell_type": "code",
   "execution_count": 9,
   "metadata": {},
   "outputs": [],
   "source": [
    "def RUNGE_eiler(h_r):\n",
    "    Y_h = np.array(eiler(f, y10, y20, T0, Tk, h_r))\n",
    "    Y_05h = np.array(eiler(f, y10, y20, T0, Tk, h_r/2))\n",
    "    t_h = np.linspace(0, Tk, len(Y_h))\n",
    "    t_05h = np.linspace(0, Tk, len(Y_05h))\n",
    "    Y_h_tr = np.array(list(zip(2*np.cos(t_h), -2*np.sin(t_h))))\n",
    "    Y_05h_tr = np.array(list(zip(2*np.cos(t_05h), -2*np.sin(t_05h))))\n",
    "    a1 = np.max(np.abs(Y_h - Y_h_tr))\n",
    "    a2 = np.max(np.abs(Y_05h - Y_05h_tr))\n",
    "    p = np.abs(math.log2(a2/a1))\n",
    "    C = a1/h_r**p\n",
    "    return p, C"
   ]
  },
  {
   "cell_type": "code",
   "execution_count": 13,
   "metadata": {},
   "outputs": [],
   "source": [
    "def RUNGE_bdf(h_r):\n",
    "    Y_h = np.array(bdf_opt(f, y10, y20, T0, Tk, h_r))\n",
    "    Y_05h = np.array(bdf_opt(f, y10, y20, T0, Tk, h_r/2))\n",
    "    t_h = np.linspace(0, Tk, len(Y_h))\n",
    "    t_05h = np.linspace(0, Tk, len(Y_05h))\n",
    "    Y_h_tr = np.array(list(zip(2*np.cos(t_h), -2*np.sin(t_h))))\n",
    "    Y_05h_tr = np.array(list(zip(2*np.cos(t_05h), -2*np.sin(t_05h))))\n",
    "    a1 = np.linalg.norm(np.abs(Y_h - Y_h_tr), ord=2)\n",
    "    a2 = np.linalg.norm(np.abs(Y_05h - Y_05h_tr), ord=2)\n",
    "    p = np.abs(math.log2(a2/a1))\n",
    "    C = a1/h_r**p\n",
    "    return p, C"
   ]
  },
  {
   "cell_type": "markdown",
   "metadata": {},
   "source": [
    "### Следующую ячейку лучше не запускать, потому что она очень-очень-очень долго считается"
   ]
  },
  {
   "cell_type": "code",
   "execution_count": 15,
   "metadata": {},
   "outputs": [
    {
     "name": "stdout",
     "output_type": "stream",
     "text": [
      "h =  0.001\n",
      "RUNGE: p = 4.693535925516433 C = 3089.3644236232963\n",
      "EILER: p = 0.9965696984135222 C = 18.34650562149176\n",
      "BDF: p = 0.5000646140803456 C = 9.397270082112486\n",
      "---------------------------------------------------\n",
      "h =  0.0005\n",
      "RUNGE: p = 2.122797525662968 C = 1.008752379311179e-05\n",
      "EILER: p = 0.9982839105531659 C = 18.587116627513886\n",
      "BDF: p = 0.5000323487559151 C = 9.39496572570303\n",
      "---------------------------------------------------\n",
      "h =  0.00025\n",
      "RUNGE: p = 1.1178490237281802 C = 4.591464595150062e-08\n",
      "EILER: p = 0.9991416949604025 C = 18.71982631090221\n",
      "BDF: p = 0.5000161871436104 C = 9.393706459906214\n",
      "---------------------------------------------------\n",
      "h =  0.000125\n",
      "RUNGE: p = 0.25668610731323194 C = 9.413845299043668e-11\n",
      "EILER: p = 0.9995707829372779 C = 18.792154912257086\n",
      "BDF: p = 0.5000080952259235 C = 9.393023340060308\n",
      "---------------------------------------------------\n",
      "h =  6.25e-05\n",
      "RUNGE: p = 1.6070432701063706 C = 6.388089975299923e-05\n",
      "EILER: p = 0.9997853753250692 C = 18.831232959262707\n",
      "BDF: p = 0.5000040435777453 C = 9.392654940246448\n",
      "---------------------------------------------------\n",
      "h =  3.125e-05\n",
      "RUNGE: p = 0.8755180598267097 C = 3.0010739460625714e-07\n",
      "EILER: p = 0.9998926843362851 C = 18.8522069772092\n",
      "BDF: p = 0.50000201331623 C = 9.392457124563805\n",
      "---------------------------------------------------\n"
     ]
    }
   ],
   "source": [
    "h_list = [10**(-3), 5*10**(-4), 2.5*10**(-4), 1.25*10**(-4), 6.25*10**(-5), 3.125*10**(-5)]\n",
    "for h in h_list:\n",
    "    print('h = ', h)\n",
    "    print('RUNGE: p =', RUNGE_runge(h)[0], 'C =', RUNGE_runge(h)[1])\n",
    "    print('EILER: p =', RUNGE_eiler(h)[0], 'C =', RUNGE_eiler(h)[1])\n",
    "    print('BDF: p =', RUNGE_bdf(h)[0], 'C =', RUNGE_bdf(h)[1])\n",
    "    print('---------------------------------------------------')"
   ]
  },
  {
   "cell_type": "markdown",
   "metadata": {},
   "source": [
    "## Сравнение с аналитическим решением"
   ]
  },
  {
   "cell_type": "markdown",
   "metadata": {},
   "source": [
    "Метод Эйлера"
   ]
  },
  {
   "cell_type": "code",
   "execution_count": 8,
   "metadata": {},
   "outputs": [
    {
     "name": "stdout",
     "output_type": "stream",
     "text": [
      "T = 20.0\n",
      "h = 0.0002 r1 = 0.001630211042860652\n",
      "h = 0.0002 r2 = 0.003648348791329026\n",
      "-------------------------------\n",
      "T = 20.0\n",
      "h = 0.0001 r1 = 0.0008156345691151534\n",
      "h = 0.0001 r2 = 0.0018250322078527947\n",
      "-------------------------------\n",
      "T = 20.0\n",
      "h = 5e-05 r1 = 0.0004079496414900463\n",
      "h = 5e-05 r2 = 0.0009127306472387353\n",
      "-------------------------------\n"
     ]
    }
   ],
   "source": [
    "for h in [0.0002, 0.0001, 0.00005]:\n",
    "    N = int((Tk-T0)/h)\n",
    "    Y_eiler = eiler(f, y10, y20, T0, Tk, h)\n",
    "    y1_eiler = [Y_eiler[i][0] for i in range(len(Y_eiler))]\n",
    "    y2_eiler = [Y_eiler[i][1] for i in range(len(Y_eiler))]\n",
    "    r1 = y1_eiler[-1] - 2 * np.cos(N*h)\n",
    "    r2 = y2_eiler[-1] + 2 * np.sin(N*h)\n",
    "    print('T =', N*h)\n",
    "    print('h =', h, 'r1 =', abs(r1))\n",
    "    print('h =', h, 'r2 =', abs(r2))\n",
    "    print('-------------------------------')"
   ]
  },
  {
   "cell_type": "markdown",
   "metadata": {},
   "source": [
    "ФДН 3 порядка"
   ]
  },
  {
   "cell_type": "code",
   "execution_count": 9,
   "metadata": {},
   "outputs": [
    {
     "name": "stdout",
     "output_type": "stream",
     "text": [
      "T = 20.0\n",
      "h = 0.0002 r1 = 0.000730421454155139\n",
      "h = 0.0002 r2 = 0.00032631961436502266\n",
      "-------------------------------\n",
      "T = 20.0\n",
      "h = 0.0001 r1 = 0.00036519444209548446\n",
      "h = 0.0001 r2 = 0.00016319625878313815\n",
      "-------------------------------\n",
      "T = 20.0\n",
      "h = 5e-05 r1 = 0.0001825931805538028\n",
      "h = 5e-05 r2 = 8.1607171482867e-05\n",
      "-------------------------------\n"
     ]
    }
   ],
   "source": [
    "for h in [0.0002, 0.0001, 0.00005]:\n",
    "    N = int((Tk-T0)/h)\n",
    "    Y_bdf = bdf(f, y10, y20, T0, Tk, h)\n",
    "    y1_bdf = [Y_bdf[i][0] for i in range(len(Y_bdf))]\n",
    "    y2_bdf = [Y_bdf[i][1] for i in range(len(Y_bdf))]\n",
    "    r1 = y1_bdf[-1] - 2 * np.cos(N*h)\n",
    "    r2 = y2_bdf[-1] + 2 * np.sin(N*h)\n",
    "    print('T =', N*h)\n",
    "    print('h =', h, 'r1 =', abs(r1))\n",
    "    print('h =', h, 'r2 =', abs(r2))\n",
    "    print('-------------------------------')"
   ]
  },
  {
   "cell_type": "markdown",
   "metadata": {},
   "source": [
    "Метод Рунге-Кутты 4 порядка"
   ]
  },
  {
   "cell_type": "code",
   "execution_count": 10,
   "metadata": {},
   "outputs": [
    {
     "name": "stdout",
     "output_type": "stream",
     "text": [
      "T = 20.0\n",
      "h = 0.001 r1 = 3.199662756969701e-13\n",
      "h = 0.001 r2 = 1.2367884494324244e-13\n",
      "-------------------------------\n",
      "T = 20.0\n",
      "h = 0.0005 r1 = 2.220446049250313e-16\n",
      "h = 0.0005 r2 = 3.552713678800501e-15\n",
      "-------------------------------\n",
      "T = 20.0\n",
      "h = 0.00025 r1 = 1.509903313490213e-14\n",
      "h = 0.00025 r2 = 2.2870594307278225e-14\n",
      "-------------------------------\n"
     ]
    }
   ],
   "source": [
    "for h in [0.001, 0.0005, 0.00025]:\n",
    "    N = int((Tk-T0)/h)\n",
    "    Y_runge = runge(f, y10, y20, T0, Tk, h)\n",
    "    y1_runge = [Y_runge[i][0] for i in range(len(Y_runge))]\n",
    "    y2_runge = [Y_runge[i][1] for i in range(len(Y_runge))]\n",
    "    r1 = y1_runge[-1] - 2 * np.cos(N*h)\n",
    "    r2 = y2_runge[-1] + 2 * np.sin(N*h)\n",
    "    print('T =', N*h)\n",
    "    print('h =', h, 'r1 =', abs(r1))\n",
    "    print('h =', h, 'r2 =', abs(r2))\n",
    "    print('-------------------------------')"
   ]
  }
 ],
 "metadata": {
  "kernelspec": {
   "display_name": "Python 3",
   "language": "python",
   "name": "python3"
  },
  "language_info": {
   "codemirror_mode": {
    "name": "ipython",
    "version": 3
   },
   "file_extension": ".py",
   "mimetype": "text/x-python",
   "name": "python",
   "nbconvert_exporter": "python",
   "pygments_lexer": "ipython3",
   "version": "3.7.6"
  }
 },
 "nbformat": 4,
 "nbformat_minor": 2
}
